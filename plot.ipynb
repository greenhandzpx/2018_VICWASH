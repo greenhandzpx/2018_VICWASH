{
 "cells": [
  {
   "cell_type": "code",
   "execution_count": 1,
   "metadata": {},
   "outputs": [],
   "source": [
    "import matplotlib.pyplot as plt\n",
    "import numpy as np\n",
    "from PIL import Image\n",
    "import torchvision.transforms as transforms\n",
    "from model import Network\n",
    "import torch\n"
   ]
  },
  {
   "cell_type": "code",
   "execution_count": 2,
   "metadata": {},
   "outputs": [
    {
     "name": "stdout",
     "output_type": "stream",
     "text": [
      "tensor(0.1511, grad_fn=<DivBackward0>) tensor(27.1514, grad_fn=<DivBackward0>)\n"
     ]
    },
    {
     "ename": "KeyboardInterrupt",
     "evalue": "",
     "output_type": "error",
     "traceback": [
      "\u001b[0;31m---------------------------------------------------------------------------\u001b[0m",
      "\u001b[0;31mKeyboardInterrupt\u001b[0m                         Traceback (most recent call last)",
      "\u001b[1;32m/home/greenhandzpx/CodeField/py_code/2018_VICWASH/plot.ipynb Cell 2'\u001b[0m in \u001b[0;36m<cell line: 5>\u001b[0;34m()\u001b[0m\n\u001b[1;32m     <a href='vscode-notebook-cell://wsl%2Barchlinux/home/greenhandzpx/CodeField/py_code/2018_VICWASH/plot.ipynb#ch0000001vscode-remote?line=20'>21</a>\u001b[0m img_tensor \u001b[39m=\u001b[39m transf(img)  \u001b[39m# tensor数据格式是torch(C,H,W)\u001b[39;00m\n\u001b[1;32m     <a href='vscode-notebook-cell://wsl%2Barchlinux/home/greenhandzpx/CodeField/py_code/2018_VICWASH/plot.ipynb#ch0000001vscode-remote?line=22'>23</a>\u001b[0m X \u001b[39m=\u001b[39m img_tensor\u001b[39m.\u001b[39mreshape([\u001b[39m1\u001b[39m, \u001b[39m3\u001b[39m, \u001b[39m256\u001b[39m, \u001b[39m256\u001b[39m])\n\u001b[0;32m---> <a href='vscode-notebook-cell://wsl%2Barchlinux/home/greenhandzpx/CodeField/py_code/2018_VICWASH/plot.ipynb#ch0000001vscode-remote?line=23'>24</a>\u001b[0m X_hat, bpp \u001b[39m=\u001b[39m net(X)\n\u001b[1;32m     <a href='vscode-notebook-cell://wsl%2Barchlinux/home/greenhandzpx/CodeField/py_code/2018_VICWASH/plot.ipynb#ch0000001vscode-remote?line=24'>25</a>\u001b[0m psnr \u001b[39m=\u001b[39m \u001b[39m-\u001b[39m\u001b[39m10\u001b[39m \u001b[39m*\u001b[39m torch\u001b[39m.\u001b[39mlog10(torch\u001b[39m.\u001b[39mmean(torch\u001b[39m.\u001b[39msquare(X \u001b[39m-\u001b[39m X_hat)))  \n\u001b[1;32m     <a href='vscode-notebook-cell://wsl%2Barchlinux/home/greenhandzpx/CodeField/py_code/2018_VICWASH/plot.ipynb#ch0000001vscode-remote?line=25'>26</a>\u001b[0m avg_bpp \u001b[39m+\u001b[39m\u001b[39m=\u001b[39m bpp\n",
      "File \u001b[0;32m~/.conda/envs/d2l/lib/python3.8/site-packages/torch/nn/modules/module.py:727\u001b[0m, in \u001b[0;36mModule._call_impl\u001b[0;34m(self, *input, **kwargs)\u001b[0m\n\u001b[1;32m    <a href='file:///home/greenhandzpx/.conda/envs/d2l/lib/python3.8/site-packages/torch/nn/modules/module.py?line=724'>725</a>\u001b[0m     result \u001b[39m=\u001b[39m \u001b[39mself\u001b[39m\u001b[39m.\u001b[39m_slow_forward(\u001b[39m*\u001b[39m\u001b[39minput\u001b[39m, \u001b[39m*\u001b[39m\u001b[39m*\u001b[39mkwargs)\n\u001b[1;32m    <a href='file:///home/greenhandzpx/.conda/envs/d2l/lib/python3.8/site-packages/torch/nn/modules/module.py?line=725'>726</a>\u001b[0m \u001b[39melse\u001b[39;00m:\n\u001b[0;32m--> <a href='file:///home/greenhandzpx/.conda/envs/d2l/lib/python3.8/site-packages/torch/nn/modules/module.py?line=726'>727</a>\u001b[0m     result \u001b[39m=\u001b[39m \u001b[39mself\u001b[39;49m\u001b[39m.\u001b[39;49mforward(\u001b[39m*\u001b[39;49m\u001b[39minput\u001b[39;49m, \u001b[39m*\u001b[39;49m\u001b[39m*\u001b[39;49mkwargs)\n\u001b[1;32m    <a href='file:///home/greenhandzpx/.conda/envs/d2l/lib/python3.8/site-packages/torch/nn/modules/module.py?line=727'>728</a>\u001b[0m \u001b[39mfor\u001b[39;00m hook \u001b[39min\u001b[39;00m itertools\u001b[39m.\u001b[39mchain(\n\u001b[1;32m    <a href='file:///home/greenhandzpx/.conda/envs/d2l/lib/python3.8/site-packages/torch/nn/modules/module.py?line=728'>729</a>\u001b[0m         _global_forward_hooks\u001b[39m.\u001b[39mvalues(),\n\u001b[1;32m    <a href='file:///home/greenhandzpx/.conda/envs/d2l/lib/python3.8/site-packages/torch/nn/modules/module.py?line=729'>730</a>\u001b[0m         \u001b[39mself\u001b[39m\u001b[39m.\u001b[39m_forward_hooks\u001b[39m.\u001b[39mvalues()):\n\u001b[1;32m    <a href='file:///home/greenhandzpx/.conda/envs/d2l/lib/python3.8/site-packages/torch/nn/modules/module.py?line=730'>731</a>\u001b[0m     hook_result \u001b[39m=\u001b[39m hook(\u001b[39mself\u001b[39m, \u001b[39minput\u001b[39m, result)\n",
      "File \u001b[0;32m~/CodeField/py_code/2018_VICWASH/model.py:59\u001b[0m, in \u001b[0;36mNetwork.forward\u001b[0;34m(self, x)\u001b[0m\n\u001b[1;32m     <a href='file:///home/greenhandzpx/CodeField/py_code/2018_VICWASH/model.py?line=57'>58</a>\u001b[0m \u001b[39mdef\u001b[39;00m \u001b[39mforward\u001b[39m(\u001b[39mself\u001b[39m, x):\n\u001b[0;32m---> <a href='file:///home/greenhandzpx/CodeField/py_code/2018_VICWASH/model.py?line=58'>59</a>\u001b[0m     y \u001b[39m=\u001b[39m \u001b[39mself\u001b[39;49m\u001b[39m.\u001b[39;49mg_analysis(x)\n\u001b[1;32m     <a href='file:///home/greenhandzpx/CodeField/py_code/2018_VICWASH/model.py?line=60'>61</a>\u001b[0m     \u001b[39m# print('hhh')\u001b[39;00m\n\u001b[1;32m     <a href='file:///home/greenhandzpx/CodeField/py_code/2018_VICWASH/model.py?line=61'>62</a>\u001b[0m     \u001b[39m# print(y.shape)\u001b[39;00m\n\u001b[1;32m     <a href='file:///home/greenhandzpx/CodeField/py_code/2018_VICWASH/model.py?line=62'>63</a>\u001b[0m     z \u001b[39m=\u001b[39m \u001b[39mself\u001b[39m\u001b[39m.\u001b[39mh_analysis(y)\n",
      "File \u001b[0;32m~/.conda/envs/d2l/lib/python3.8/site-packages/torch/nn/modules/module.py:727\u001b[0m, in \u001b[0;36mModule._call_impl\u001b[0;34m(self, *input, **kwargs)\u001b[0m\n\u001b[1;32m    <a href='file:///home/greenhandzpx/.conda/envs/d2l/lib/python3.8/site-packages/torch/nn/modules/module.py?line=724'>725</a>\u001b[0m     result \u001b[39m=\u001b[39m \u001b[39mself\u001b[39m\u001b[39m.\u001b[39m_slow_forward(\u001b[39m*\u001b[39m\u001b[39minput\u001b[39m, \u001b[39m*\u001b[39m\u001b[39m*\u001b[39mkwargs)\n\u001b[1;32m    <a href='file:///home/greenhandzpx/.conda/envs/d2l/lib/python3.8/site-packages/torch/nn/modules/module.py?line=725'>726</a>\u001b[0m \u001b[39melse\u001b[39;00m:\n\u001b[0;32m--> <a href='file:///home/greenhandzpx/.conda/envs/d2l/lib/python3.8/site-packages/torch/nn/modules/module.py?line=726'>727</a>\u001b[0m     result \u001b[39m=\u001b[39m \u001b[39mself\u001b[39;49m\u001b[39m.\u001b[39;49mforward(\u001b[39m*\u001b[39;49m\u001b[39minput\u001b[39;49m, \u001b[39m*\u001b[39;49m\u001b[39m*\u001b[39;49mkwargs)\n\u001b[1;32m    <a href='file:///home/greenhandzpx/.conda/envs/d2l/lib/python3.8/site-packages/torch/nn/modules/module.py?line=727'>728</a>\u001b[0m \u001b[39mfor\u001b[39;00m hook \u001b[39min\u001b[39;00m itertools\u001b[39m.\u001b[39mchain(\n\u001b[1;32m    <a href='file:///home/greenhandzpx/.conda/envs/d2l/lib/python3.8/site-packages/torch/nn/modules/module.py?line=728'>729</a>\u001b[0m         _global_forward_hooks\u001b[39m.\u001b[39mvalues(),\n\u001b[1;32m    <a href='file:///home/greenhandzpx/.conda/envs/d2l/lib/python3.8/site-packages/torch/nn/modules/module.py?line=729'>730</a>\u001b[0m         \u001b[39mself\u001b[39m\u001b[39m.\u001b[39m_forward_hooks\u001b[39m.\u001b[39mvalues()):\n\u001b[1;32m    <a href='file:///home/greenhandzpx/.conda/envs/d2l/lib/python3.8/site-packages/torch/nn/modules/module.py?line=730'>731</a>\u001b[0m     hook_result \u001b[39m=\u001b[39m hook(\u001b[39mself\u001b[39m, \u001b[39minput\u001b[39m, result)\n",
      "File \u001b[0;32m~/.conda/envs/d2l/lib/python3.8/site-packages/torch/nn/modules/container.py:117\u001b[0m, in \u001b[0;36mSequential.forward\u001b[0;34m(self, input)\u001b[0m\n\u001b[1;32m    <a href='file:///home/greenhandzpx/.conda/envs/d2l/lib/python3.8/site-packages/torch/nn/modules/container.py?line=114'>115</a>\u001b[0m \u001b[39mdef\u001b[39;00m \u001b[39mforward\u001b[39m(\u001b[39mself\u001b[39m, \u001b[39minput\u001b[39m):\n\u001b[1;32m    <a href='file:///home/greenhandzpx/.conda/envs/d2l/lib/python3.8/site-packages/torch/nn/modules/container.py?line=115'>116</a>\u001b[0m     \u001b[39mfor\u001b[39;00m module \u001b[39min\u001b[39;00m \u001b[39mself\u001b[39m:\n\u001b[0;32m--> <a href='file:///home/greenhandzpx/.conda/envs/d2l/lib/python3.8/site-packages/torch/nn/modules/container.py?line=116'>117</a>\u001b[0m         \u001b[39minput\u001b[39m \u001b[39m=\u001b[39m module(\u001b[39minput\u001b[39;49m)\n\u001b[1;32m    <a href='file:///home/greenhandzpx/.conda/envs/d2l/lib/python3.8/site-packages/torch/nn/modules/container.py?line=117'>118</a>\u001b[0m     \u001b[39mreturn\u001b[39;00m \u001b[39minput\u001b[39m\n",
      "File \u001b[0;32m~/.conda/envs/d2l/lib/python3.8/site-packages/torch/nn/modules/module.py:727\u001b[0m, in \u001b[0;36mModule._call_impl\u001b[0;34m(self, *input, **kwargs)\u001b[0m\n\u001b[1;32m    <a href='file:///home/greenhandzpx/.conda/envs/d2l/lib/python3.8/site-packages/torch/nn/modules/module.py?line=724'>725</a>\u001b[0m     result \u001b[39m=\u001b[39m \u001b[39mself\u001b[39m\u001b[39m.\u001b[39m_slow_forward(\u001b[39m*\u001b[39m\u001b[39minput\u001b[39m, \u001b[39m*\u001b[39m\u001b[39m*\u001b[39mkwargs)\n\u001b[1;32m    <a href='file:///home/greenhandzpx/.conda/envs/d2l/lib/python3.8/site-packages/torch/nn/modules/module.py?line=725'>726</a>\u001b[0m \u001b[39melse\u001b[39;00m:\n\u001b[0;32m--> <a href='file:///home/greenhandzpx/.conda/envs/d2l/lib/python3.8/site-packages/torch/nn/modules/module.py?line=726'>727</a>\u001b[0m     result \u001b[39m=\u001b[39m \u001b[39mself\u001b[39;49m\u001b[39m.\u001b[39;49mforward(\u001b[39m*\u001b[39;49m\u001b[39minput\u001b[39;49m, \u001b[39m*\u001b[39;49m\u001b[39m*\u001b[39;49mkwargs)\n\u001b[1;32m    <a href='file:///home/greenhandzpx/.conda/envs/d2l/lib/python3.8/site-packages/torch/nn/modules/module.py?line=727'>728</a>\u001b[0m \u001b[39mfor\u001b[39;00m hook \u001b[39min\u001b[39;00m itertools\u001b[39m.\u001b[39mchain(\n\u001b[1;32m    <a href='file:///home/greenhandzpx/.conda/envs/d2l/lib/python3.8/site-packages/torch/nn/modules/module.py?line=728'>729</a>\u001b[0m         _global_forward_hooks\u001b[39m.\u001b[39mvalues(),\n\u001b[1;32m    <a href='file:///home/greenhandzpx/.conda/envs/d2l/lib/python3.8/site-packages/torch/nn/modules/module.py?line=729'>730</a>\u001b[0m         \u001b[39mself\u001b[39m\u001b[39m.\u001b[39m_forward_hooks\u001b[39m.\u001b[39mvalues()):\n\u001b[1;32m    <a href='file:///home/greenhandzpx/.conda/envs/d2l/lib/python3.8/site-packages/torch/nn/modules/module.py?line=730'>731</a>\u001b[0m     hook_result \u001b[39m=\u001b[39m hook(\u001b[39mself\u001b[39m, \u001b[39minput\u001b[39m, result)\n",
      "File \u001b[0;32m~/.conda/envs/d2l/lib/python3.8/site-packages/torch/nn/modules/conv.py:423\u001b[0m, in \u001b[0;36mConv2d.forward\u001b[0;34m(self, input)\u001b[0m\n\u001b[1;32m    <a href='file:///home/greenhandzpx/.conda/envs/d2l/lib/python3.8/site-packages/torch/nn/modules/conv.py?line=421'>422</a>\u001b[0m \u001b[39mdef\u001b[39;00m \u001b[39mforward\u001b[39m(\u001b[39mself\u001b[39m, \u001b[39minput\u001b[39m: Tensor) \u001b[39m-\u001b[39m\u001b[39m>\u001b[39m Tensor:\n\u001b[0;32m--> <a href='file:///home/greenhandzpx/.conda/envs/d2l/lib/python3.8/site-packages/torch/nn/modules/conv.py?line=422'>423</a>\u001b[0m     \u001b[39mreturn\u001b[39;00m \u001b[39mself\u001b[39;49m\u001b[39m.\u001b[39;49m_conv_forward(\u001b[39minput\u001b[39;49m, \u001b[39mself\u001b[39;49m\u001b[39m.\u001b[39;49mweight)\n",
      "File \u001b[0;32m~/.conda/envs/d2l/lib/python3.8/site-packages/torch/nn/modules/conv.py:419\u001b[0m, in \u001b[0;36mConv2d._conv_forward\u001b[0;34m(self, input, weight)\u001b[0m\n\u001b[1;32m    <a href='file:///home/greenhandzpx/.conda/envs/d2l/lib/python3.8/site-packages/torch/nn/modules/conv.py?line=414'>415</a>\u001b[0m \u001b[39mif\u001b[39;00m \u001b[39mself\u001b[39m\u001b[39m.\u001b[39mpadding_mode \u001b[39m!=\u001b[39m \u001b[39m'\u001b[39m\u001b[39mzeros\u001b[39m\u001b[39m'\u001b[39m:\n\u001b[1;32m    <a href='file:///home/greenhandzpx/.conda/envs/d2l/lib/python3.8/site-packages/torch/nn/modules/conv.py?line=415'>416</a>\u001b[0m     \u001b[39mreturn\u001b[39;00m F\u001b[39m.\u001b[39mconv2d(F\u001b[39m.\u001b[39mpad(\u001b[39minput\u001b[39m, \u001b[39mself\u001b[39m\u001b[39m.\u001b[39m_reversed_padding_repeated_twice, mode\u001b[39m=\u001b[39m\u001b[39mself\u001b[39m\u001b[39m.\u001b[39mpadding_mode),\n\u001b[1;32m    <a href='file:///home/greenhandzpx/.conda/envs/d2l/lib/python3.8/site-packages/torch/nn/modules/conv.py?line=416'>417</a>\u001b[0m                     weight, \u001b[39mself\u001b[39m\u001b[39m.\u001b[39mbias, \u001b[39mself\u001b[39m\u001b[39m.\u001b[39mstride,\n\u001b[1;32m    <a href='file:///home/greenhandzpx/.conda/envs/d2l/lib/python3.8/site-packages/torch/nn/modules/conv.py?line=417'>418</a>\u001b[0m                     _pair(\u001b[39m0\u001b[39m), \u001b[39mself\u001b[39m\u001b[39m.\u001b[39mdilation, \u001b[39mself\u001b[39m\u001b[39m.\u001b[39mgroups)\n\u001b[0;32m--> <a href='file:///home/greenhandzpx/.conda/envs/d2l/lib/python3.8/site-packages/torch/nn/modules/conv.py?line=418'>419</a>\u001b[0m \u001b[39mreturn\u001b[39;00m F\u001b[39m.\u001b[39;49mconv2d(\u001b[39minput\u001b[39;49m, weight, \u001b[39mself\u001b[39;49m\u001b[39m.\u001b[39;49mbias, \u001b[39mself\u001b[39;49m\u001b[39m.\u001b[39;49mstride,\n\u001b[1;32m    <a href='file:///home/greenhandzpx/.conda/envs/d2l/lib/python3.8/site-packages/torch/nn/modules/conv.py?line=419'>420</a>\u001b[0m                 \u001b[39mself\u001b[39;49m\u001b[39m.\u001b[39;49mpadding, \u001b[39mself\u001b[39;49m\u001b[39m.\u001b[39;49mdilation, \u001b[39mself\u001b[39;49m\u001b[39m.\u001b[39;49mgroups)\n",
      "\u001b[0;31mKeyboardInterrupt\u001b[0m: "
     ]
    }
   ],
   "source": [
    "# 计算每个lambda对应的r-d值\n",
    "lambdas = [128, 256, 1024]\n",
    "psnrs = []\n",
    "bpps = []\n",
    "for ld in lambdas:\n",
    "\n",
    "    net = Network(device='cpu')\n",
    "    net.load_state_dict(torch.load('model_param/model'+str(ld), map_location=torch.device('cpu')))\n",
    "    net.eval()\n",
    "    avg_psnr = 0\n",
    "    avg_bpp = 0\n",
    "    for i in range(24):\n",
    "        postfix = str(i + 1)\n",
    "        if i < 9:\n",
    "            postfix = '0' + postfix\n",
    "\n",
    "        img = Image.open('image/test/kodim'+postfix+'.png').convert('RGB')\n",
    "        transf = transforms.Resize((256, 256))\n",
    "        img = transf(img)\n",
    "        transf = transforms.ToTensor()\n",
    "        img_tensor = transf(img)  # tensor数据格式是torch(C,H,W)\n",
    "        \n",
    "        X = img_tensor.reshape([1, 3, 256, 256])\n",
    "        X_hat, bpp = net(X)\n",
    "        psnr = -10 * torch.log10(torch.mean(torch.square(X - X_hat)))  \n",
    "        avg_bpp += bpp\n",
    "        avg_psnr += psnr\n",
    "        # print(bpp, psnr)\n",
    "\n",
    "    avg_bpp /= 24\n",
    "    avg_psnr /= 24\n",
    "    print(avg_bpp, avg_psnr)\n",
    "    bpps.append(avg_bpp)\n",
    "    psnrs.append(avg_psnr)\n"
   ]
  },
  {
   "cell_type": "code",
   "execution_count": null,
   "metadata": {},
   "outputs": [],
   "source": [
    "print(bpps)"
   ]
  }
 ],
 "metadata": {
  "interpreter": {
   "hash": "ce427124b0f07e1566d651c9b158484eee02aa5a8a7002d4fc3840b70d35961f"
  },
  "kernelspec": {
   "display_name": "Python 3.8.12 ('d2l')",
   "language": "python",
   "name": "python3"
  },
  "language_info": {
   "codemirror_mode": {
    "name": "ipython",
    "version": 3
   },
   "file_extension": ".py",
   "mimetype": "text/x-python",
   "name": "python",
   "nbconvert_exporter": "python",
   "pygments_lexer": "ipython3",
   "version": "3.8.12"
  },
  "orig_nbformat": 4
 },
 "nbformat": 4,
 "nbformat_minor": 2
}
