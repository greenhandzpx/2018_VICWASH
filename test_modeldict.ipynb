{
 "cells": [
  {
   "cell_type": "code",
   "execution_count": 23,
   "id": "e7d46849",
   "metadata": {},
   "outputs": [],
   "source": [
    "from PIL import Image\n",
    "import torchvision.transforms as transforms\n",
    "\n",
    "img = Image.open('image/test/kodim03.png').convert('RGB')\n",
    "#img = cv.imread('image/test/kodim03.png')\n",
    "#print(img.shape)"
   ]
  },
  {
   "cell_type": "code",
   "execution_count": 24,
   "id": "af27b644",
   "metadata": {},
   "outputs": [
    {
     "name": "stdout",
     "output_type": "stream",
     "text": [
      "torch.Size([3, 256, 256])\n"
     ]
    }
   ],
   "source": [
    "transf = transforms.Resize((256, 256))\n",
    "img = transf(img)\n",
    "transf = transforms.ToTensor()\n",
    "img_tensor = transf(img)  # tensor数据格式是torch(C,H,W)\n",
    "print(img_tensor.size())"
   ]
  },
  {
   "cell_type": "code",
   "execution_count": 25,
   "id": "f9aac808",
   "metadata": {},
   "outputs": [
    {
     "data": {
      "text/plain": [
       "<All keys matched successfully>"
      ]
     },
     "execution_count": 25,
     "metadata": {},
     "output_type": "execute_result"
    }
   ],
   "source": [
    "from model import Network\n",
    "import torch\n",
    "\n",
    "net = Network(device='cpu')\n",
    "net.load_state_dict(torch.load('model_param/model1024'))"
   ]
  },
  {
   "cell_type": "code",
   "execution_count": 26,
   "id": "4da6d862",
   "metadata": {},
   "outputs": [
    {
     "data": {
      "text/plain": [
       "torch.Size([1, 3, 256, 256])"
      ]
     },
     "execution_count": 26,
     "metadata": {},
     "output_type": "execute_result"
    }
   ],
   "source": [
    "img_tensor = img_tensor.reshape([1, 3, 256, 256])\n",
    "com_tensor, _ = net(img_tensor)\n",
    "com_tensor.shape"
   ]
  },
  {
   "cell_type": "code",
   "execution_count": 27,
   "id": "e06191bc",
   "metadata": {},
   "outputs": [],
   "source": [
    "import os\n",
    "toPIL = transforms.ToPILImage()\n",
    "for i in range(com_tensor.shape[0]):\n",
    "    img = toPIL(com_tensor[i].clamp(0., 1.))\n",
    "    img.save(os.path.join(os.getcwd(), 'image', 'test_results1024',\n",
    "                            'test_param' + '.bmp'))"
   ]
  },
  {
   "cell_type": "code",
   "execution_count": null,
   "id": "90e0084d",
   "metadata": {},
   "outputs": [],
   "source": []
  }
 ],
 "metadata": {
  "kernelspec": {
   "display_name": "Python 3 (ipykernel)",
   "language": "python",
   "name": "python3"
  },
  "language_info": {
   "codemirror_mode": {
    "name": "ipython",
    "version": 3
   },
   "file_extension": ".py",
   "mimetype": "text/x-python",
   "name": "python",
   "nbconvert_exporter": "python",
   "pygments_lexer": "ipython3",
   "version": "3.7.11"
  }
 },
 "nbformat": 4,
 "nbformat_minor": 5
}
